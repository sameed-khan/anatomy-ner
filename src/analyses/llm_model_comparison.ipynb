{
 "cells": [
  {
   "cell_type": "markdown",
   "metadata": {},
   "source": [
    "#### LLM Model Comparison\n",
    "\n",
    "Small comparison of out-of-the-box (OOB) large language models, sourced from Huggingface Hub for simple task of free-text anatomic classification of the findings section of radiology reports.\n",
    "Performance is measured by classification accuracy of the model across the following categories:\n",
    "```\n",
    "LUNG/PLEURA/LARGE AIRWAYS\n",
    "VESSELS\n",
    "HEART\n",
    "MEDIASTINUM AND HILA\n",
    "CHEST WALL AND LOWER NECK\n",
    "LIVER\n",
    "BILE DUCTS\n",
    "GALLBLADDER\n",
    "PANCREAS\n",
    "SPLEEN\n",
    "ADRENAL GLANDS\n",
    "KIDNEYS AND URETERS\n",
    "BLADDER\n",
    "REPRODUCTIVE ORGANS\n",
    "BOWEL\n",
    "VESSELS\n",
    "PERITONEUM/RETROPERITONEUM/LYMPH NODES\n",
    "BONE AND SOFT TISSUE\n",
    "MISCELLANEOUS\n",
    "```\n",
    "\n",
    "`MISCELLANEOUS` category describes usually verbiage about comparison with previous studies, the type of CXR study performed, comments about patient clinical history, etc.\n",
    "\n",
    "Classification is carried out on a subset of CXR reports sourced from the MIMIC-CXR database.\n",
    "MIMIC-CXR comprises ~220k CXR studies from patients admitted to BIDMC from 2011 to 2016.\n",
    "This analysis selects 50 patients' reports (totaling a little >100 reports). \n",
    "Sentence-level classification was done by hand."
   ]
  },
  {
   "cell_type": "markdown",
   "metadata": {},
   "source": [
    "#### Setup and Imports"
   ]
  },
  {
   "cell_type": "code",
   "execution_count": 6,
   "metadata": {},
   "outputs": [
    {
     "data": {
      "text/plain": [
       "[{'filename': '/home/khans24/charit/anatomy_ner/mimic_cxr_reports/p10/p10394761/s53097934.txt',\n",
       "  'patient_id': 'p10394761',\n",
       "  'finding': 'PA and lateral chest views were obtained with patient in upright  position',\n",
       "  'anatomic_classification': 'MISCELLANEOUS',\n",
       "  'possible_secondary': ''},\n",
       " {'filename': '/home/khans24/charit/anatomy_ner/mimic_cxr_reports/p10/p10394761/s53097934.txt',\n",
       "  'patient_id': 'p10394761',\n",
       "  'finding': 'Analysis is performed in direct comparison with the next preceding  similar study of ___',\n",
       "  'anatomic_classification': 'MISCELLANEOUS',\n",
       "  'possible_secondary': ''},\n",
       " {'filename': '/home/khans24/charit/anatomy_ner/mimic_cxr_reports/p10/p10394761/s53097934.txt',\n",
       "  'patient_id': 'p10394761',\n",
       "  'finding': 'There is mild cardiac enlargement',\n",
       "  'anatomic_classification': 'HEART',\n",
       "  'possible_secondary': ''}]"
      ]
     },
     "execution_count": 6,
     "metadata": {},
     "output_type": "execute_result"
    }
   ],
   "source": [
    "# Create list of dictionaries for input/output examples\n",
    "\n",
    "with open(\"../../data/eval_dataset_annotated.csv\") as f:\n",
    "    lines = f.readlines()\n",
    "\n",
    "lines = [line.strip().replace(\"\\n\", \"\") for line in lines]\n",
    "column_names = lines[0].split(\",\")\n",
    "datadict = []\n",
    "for line in lines[1:]:\n",
    "    line = line.split(\",\")\n",
    "    datadict.append({column_names[i]: line[i] for i in range(len(column_names))})\n",
    "\n",
    "datadict[:3]"
   ]
  },
  {
   "cell_type": "code",
   "execution_count": 7,
   "metadata": {},
   "outputs": [
    {
     "name": "stdout",
     "output_type": "stream",
     "text": [
      "There are 440 classification examples in the final dataset.\n"
     ]
    }
   ],
   "source": [
    "final_dataset = [x for x in datadict if x[\"anatomic_classification\"] != \"MISCELLANEOUS\"]\n",
    "print(f\"There are {len(final_dataset)} classification examples in the final dataset.\")"
   ]
  },
  {
   "cell_type": "markdown",
   "metadata": {},
   "source": [
    "#### Testing Llama CPP\n",
    "\n",
    "Currently, without GPU access, the `llama-cpp` library is the best option for CPU-bound LLMs without having to undergo some serious custom engineering."
   ]
  },
  {
   "cell_type": "code",
   "execution_count": 8,
   "metadata": {},
   "outputs": [
    {
     "name": "stdout",
     "output_type": "stream",
     "text": [
      "### Instruction: Select from one of the following categories for the most relevant anatomy involved for the prompt sentence. The categories are (separated by comma): LUNG/PLEURA/LARGE AIRWAYS, VESSELS, HEART, MEDIASTINUM AND HILA, CHEST WALL AND LOWER NECK, LIVER, BILE DUCTS, GALLBLADDER, PANCREAS, SPLEEN, ADRENAL GLANDS, KIDNEYS AND URETERS, BLADDER, REPRODUCTIVE ORGANS, BOWEL, VESSELS, PERITONEUM/RETROPERITONEUM/LYMPH NODES, BONE AND SOFT TISSUE. if none of the above categories are relevant, output MISCELLANEOUS. output the above choice and nothing more. \n",
      "\n",
      "### Input: \"As there was no evidence of pleural effusion or other signs of  parenchymal infiltrates \n",
      "\n",
      "### Response: \n"
     ]
    }
   ],
   "source": [
    "def alpaca_prompt_constructor(input_string):\n",
    "    return (\n",
    "        \"### Instruction: Select from one of the following categories for the most relevant anatomy involved for the prompt sentence. The categories are (separated by comma): \"\n",
    "        \"LUNG/PLEURA/LARGE AIRWAYS, VESSELS, HEART, MEDIASTINUM AND HILA, CHEST WALL AND LOWER NECK, LIVER, BILE DUCTS, GALLBLADDER, PANCREAS, \"\n",
    "        \"SPLEEN, ADRENAL GLANDS, KIDNEYS AND URETERS, BLADDER, REPRODUCTIVE ORGANS, BOWEL, VESSELS, PERITONEUM/RETROPERITONEUM/LYMPH NODES, BONE AND SOFT TISSUE. \"\n",
    "        \"if none of the above categories are relevant, output MISCELLANEOUS. \"\n",
    "        \"output the above choice and nothing more. \\n\\n\"\n",
    "        f\"### Input: {input_string} \\n\\n\"\n",
    "        \"### Response: \"\n",
    "    )\n",
    "\n",
    "print(alpaca_prompt_constructor(final_dataset[10][\"finding\"]))  # Test a sample"
   ]
  },
  {
   "cell_type": "code",
   "execution_count": 14,
   "metadata": {},
   "outputs": [
    {
     "name": "stderr",
     "output_type": "stream",
     "text": [
      "llama_model_loader: loaded meta data with 19 key-value pairs and 363 tensors from ../models/llama-2-13B-chat.Q4_K_M.gguf (version GGUF V2)\n",
      "llama_model_loader: Dumping metadata keys/values. Note: KV overrides do not apply in this output.\n",
      "llama_model_loader: - kv   0:                       general.architecture str              = llama\n",
      "llama_model_loader: - kv   1:                               general.name str              = LLaMA v2\n",
      "llama_model_loader: - kv   2:                       llama.context_length u32              = 4096\n",
      "llama_model_loader: - kv   3:                     llama.embedding_length u32              = 5120\n",
      "llama_model_loader: - kv   4:                          llama.block_count u32              = 40\n",
      "llama_model_loader: - kv   5:                  llama.feed_forward_length u32              = 13824\n",
      "llama_model_loader: - kv   6:                 llama.rope.dimension_count u32              = 128\n",
      "llama_model_loader: - kv   7:                 llama.attention.head_count u32              = 40\n",
      "llama_model_loader: - kv   8:              llama.attention.head_count_kv u32              = 40\n",
      "llama_model_loader: - kv   9:     llama.attention.layer_norm_rms_epsilon f32              = 0.000010\n",
      "llama_model_loader: - kv  10:                          general.file_type u32              = 15\n",
      "llama_model_loader: - kv  11:                       tokenizer.ggml.model str              = llama\n",
      "llama_model_loader: - kv  12:                      tokenizer.ggml.tokens arr[str,32000]   = [\"<unk>\", \"<s>\", \"</s>\", \"<0x00>\", \"<...\n",
      "llama_model_loader: - kv  13:                      tokenizer.ggml.scores arr[f32,32000]   = [0.000000, 0.000000, 0.000000, 0.0000...\n",
      "llama_model_loader: - kv  14:                  tokenizer.ggml.token_type arr[i32,32000]   = [2, 3, 3, 6, 6, 6, 6, 6, 6, 6, 6, 6, ...\n",
      "llama_model_loader: - kv  15:                tokenizer.ggml.bos_token_id u32              = 1\n",
      "llama_model_loader: - kv  16:                tokenizer.ggml.eos_token_id u32              = 2\n",
      "llama_model_loader: - kv  17:            tokenizer.ggml.unknown_token_id u32              = 0\n",
      "llama_model_loader: - kv  18:               general.quantization_version u32              = 2\n",
      "llama_model_loader: - type  f32:   81 tensors\n",
      "llama_model_loader: - type q4_K:  241 tensors\n",
      "llama_model_loader: - type q6_K:   41 tensors\n",
      "llm_load_vocab: special tokens definition check successful ( 259/32000 ).\n",
      "llm_load_print_meta: format           = GGUF V2\n",
      "llm_load_print_meta: arch             = llama\n",
      "llm_load_print_meta: vocab type       = SPM\n",
      "llm_load_print_meta: n_vocab          = 32000\n",
      "llm_load_print_meta: n_merges         = 0\n",
      "llm_load_print_meta: n_ctx_train      = 4096\n",
      "llm_load_print_meta: n_embd           = 5120\n",
      "llm_load_print_meta: n_head           = 40\n",
      "llm_load_print_meta: n_head_kv        = 40\n",
      "llm_load_print_meta: n_layer          = 40\n",
      "llm_load_print_meta: n_rot            = 128\n",
      "llm_load_print_meta: n_embd_head_k    = 128\n",
      "llm_load_print_meta: n_embd_head_v    = 128\n",
      "llm_load_print_meta: n_gqa            = 1\n",
      "llm_load_print_meta: n_embd_k_gqa     = 5120\n",
      "llm_load_print_meta: n_embd_v_gqa     = 5120\n",
      "llm_load_print_meta: f_norm_eps       = 0.0e+00\n",
      "llm_load_print_meta: f_norm_rms_eps   = 1.0e-05\n",
      "llm_load_print_meta: f_clamp_kqv      = 0.0e+00\n",
      "llm_load_print_meta: f_max_alibi_bias = 0.0e+00\n",
      "llm_load_print_meta: n_ff             = 13824\n",
      "llm_load_print_meta: n_expert         = 0\n",
      "llm_load_print_meta: n_expert_used    = 0\n",
      "llm_load_print_meta: rope scaling     = linear\n",
      "llm_load_print_meta: freq_base_train  = 10000.0\n",
      "llm_load_print_meta: freq_scale_train = 1\n",
      "llm_load_print_meta: n_yarn_orig_ctx  = 4096\n",
      "llm_load_print_meta: rope_finetuned   = unknown\n",
      "llm_load_print_meta: model type       = 13B\n",
      "llm_load_print_meta: model ftype      = Q4_K - Medium\n",
      "llm_load_print_meta: model params     = 13.02 B\n",
      "llm_load_print_meta: model size       = 7.33 GiB (4.83 BPW) \n",
      "llm_load_print_meta: general.name     = LLaMA v2\n",
      "llm_load_print_meta: BOS token        = 1 '<s>'\n",
      "llm_load_print_meta: EOS token        = 2 '</s>'\n",
      "llm_load_print_meta: UNK token        = 0 '<unk>'\n",
      "llm_load_print_meta: LF token         = 13 '<0x0A>'\n",
      "llm_load_tensors: ggml ctx size       =    0.14 MiB\n",
      "llm_load_tensors: system memory used  = 7500.99 MiB\n",
      "....................................................................................................\n",
      "llama_new_context_with_model: n_ctx      = 512\n",
      "llama_new_context_with_model: freq_base  = 10000.0\n",
      "llama_new_context_with_model: freq_scale = 1\n",
      "llama_new_context_with_model: KV self size  =  400.00 MiB, K (f16):  200.00 MiB, V (f16):  200.00 MiB\n",
      "llama_build_graph: non-view tensors processed: 844/844\n",
      "llama_new_context_with_model: compute buffer total size = 78.19 MiB\n",
      "AVX = 1 | AVX_VNNI = 0 | AVX2 = 1 | AVX512 = 1 | AVX512_VBMI = 1 | AVX512_VNNI = 1 | FMA = 1 | NEON = 0 | ARM_FMA = 0 | F16C = 1 | FP16_VA = 0 | WASM_SIMD = 0 | BLAS = 0 | SSE3 = 1 | SSSE3 = 1 | VSX = 0 | \n"
     ]
    }
   ],
   "source": [
    "from llama_cpp import Llama\n",
    "llm = Llama(model_path=\"../models/llama-2-13B-chat.Q4_K_M.gguf\")"
   ]
  },
  {
   "cell_type": "code",
   "execution_count": 15,
   "metadata": {},
   "outputs": [
    {
     "name": "stderr",
     "output_type": "stream",
     "text": [
      "\n",
      "llama_print_timings:        load time =  184769.06 ms\n",
      "llama_print_timings:      sample time =       1.31 ms /     1 runs   (    1.31 ms per token,   764.53 tokens per second)\n",
      "llama_print_timings: prompt eval time =  184767.79 ms /   248 tokens (  745.03 ms per token,     1.34 tokens per second)\n",
      "llama_print_timings:        eval time =       0.00 ms /     1 runs   (    0.00 ms per token,      inf tokens per second)\n",
      "llama_print_timings:       total time =  184867.09 ms\n"
     ]
    },
    {
     "data": {
      "text/plain": [
       "{'id': 'cmpl-b8c16104-4552-4f12-81a2-e62451489304',\n",
       " 'object': 'text_completion',\n",
       " 'created': 1704655908,\n",
       " 'model': '../models/llama-2-13B-chat.Q4_K_M.gguf',\n",
       " 'choices': [{'text': '',\n",
       "   'index': 0,\n",
       "   'logprobs': None,\n",
       "   'finish_reason': 'stop'}],\n",
       " 'usage': {'prompt_tokens': 248, 'completion_tokens': 1, 'total_tokens': 249}}"
      ]
     },
     "execution_count": 15,
     "metadata": {},
     "output_type": "execute_result"
    }
   ],
   "source": [
    "llm(\n",
    "    alpaca_prompt_constructor(final_dataset[10][\"finding\"]),\n",
    "    max_tokens=32,\n",
    "    stop=[\"\\n\"]\n",
    ")"
   ]
  },
  {
   "cell_type": "code",
   "execution_count": 16,
   "metadata": {},
   "outputs": [
    {
     "name": "stderr",
     "output_type": "stream",
     "text": [
      "Llama.generate: prefix-match hit\n",
      "\n",
      "llama_print_timings:        load time =  184769.06 ms\n",
      "llama_print_timings:      sample time =       8.93 ms /     9 runs   (    0.99 ms per token,  1008.18 tokens per second)\n",
      "llama_print_timings: prompt eval time =   44444.54 ms /    41 tokens ( 1084.01 ms per token,     0.92 tokens per second)\n",
      "llama_print_timings:        eval time =   88569.91 ms /     8 runs   (11071.24 ms per token,     0.09 tokens per second)\n",
      "llama_print_timings:       total time =  133596.54 ms\n"
     ]
    },
    {
     "data": {
      "text/plain": [
       "{'id': 'cmpl-c3b5ee45-f36d-4ee9-b283-e700467cebf7',\n",
       " 'object': 'text_completion',\n",
       " 'created': 1704656134,\n",
       " 'model': '../models/llama-2-13B-chat.Q4_K_M.gguf',\n",
       " 'choices': [{'text': ' MISCELLANEOUS',\n",
       "   'index': 0,\n",
       "   'logprobs': None,\n",
       "   'finish_reason': 'stop'}],\n",
       " 'usage': {'prompt_tokens': 256, 'completion_tokens': 9, 'total_tokens': 265}}"
      ]
     },
     "execution_count": 16,
     "metadata": {},
     "output_type": "execute_result"
    }
   ],
   "source": [
    "llm(\n",
    "    alpaca_prompt_constructor(final_dataset[15][\"finding\"]),\n",
    "    max_tokens=32,\n",
    "    stop=[\"\\n\"]\n",
    ")"
   ]
  },
  {
   "cell_type": "code",
   "execution_count": 17,
   "metadata": {},
   "outputs": [
    {
     "data": {
      "text/plain": [
       "{'filename': '/home/khans24/charit/anatomy_ner/mimic_cxr_reports/p10/p10773382/s55866250.txt',\n",
       " 'patient_id': 'p10773382',\n",
       " 'finding': 'The  patient is status post sternotomy and multiple surgical clips in the left  anterior mediastinal structures are indicative of previous bypass surgery',\n",
       " 'anatomic_classification': 'MEDIASTINUM AND HILA',\n",
       " 'possible_secondary': ''}"
      ]
     },
     "execution_count": 17,
     "metadata": {},
     "output_type": "execute_result"
    }
   ],
   "source": [
    "final_dataset[15]"
   ]
  }
 ],
 "metadata": {
  "kernelspec": {
   "display_name": "gpu_mamba",
   "language": "python",
   "name": "python3"
  },
  "language_info": {
   "codemirror_mode": {
    "name": "ipython",
    "version": 3
   },
   "file_extension": ".py",
   "mimetype": "text/x-python",
   "name": "python",
   "nbconvert_exporter": "python",
   "pygments_lexer": "ipython3",
   "version": "3.11.7"
  }
 },
 "nbformat": 4,
 "nbformat_minor": 2
}
